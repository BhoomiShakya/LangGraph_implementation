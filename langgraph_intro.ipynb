{
  "cells": [
    {
      "cell_type": "code",
      "execution_count": null,
      "metadata": {
        "colab": {
          "base_uri": "https://localhost:8080/"
        },
        "id": "J-w_3Be2tDLn",
        "outputId": "75479879-9e2d-4007-9cbd-671e7c1a3152"
      },
      "outputs": [
        {
          "ename": "",
          "evalue": "",
          "output_type": "error",
          "traceback": [
            "\u001b[1;31mRunning cells with 'Python 3.9.13' requires the ipykernel package.\n",
            "\u001b[1;31mRun the following command to install 'ipykernel' into the Python environment. \n",
            "\u001b[1;31mCommand: 'c:/Users/ASUS/AppData/Local/Microsoft/WindowsApps/python3.9.exe -m pip install ipykernel -U --user --force-reinstall'"
          ]
        }
      ],
      "source": [
        "!pip install langgraph langchain langchain_community langchainhub ipykernel langchain-groq IPython\n"
      ]
    },
    {
      "cell_type": "code",
      "execution_count": null,
      "metadata": {},
      "outputs": [],
      "source": []
    },
    {
      "cell_type": "code",
      "execution_count": null,
      "metadata": {
        "id": "2285zeyiE2tR"
      },
      "outputs": [],
      "source": [
        "from typing import Annotated\n",
        "from typing import TypedDict\n",
        "\n"
      ]
    },
    {
      "cell_type": "code",
      "execution_count": null,
      "metadata": {
        "id": "wn2_q5m9JewJ"
      },
      "outputs": [],
      "source": [
        "from langgraph.graph import StateGraph"
      ]
    },
    {
      "cell_type": "code",
      "execution_count": null,
      "metadata": {
        "id": "xzN8o2v2O7_T"
      },
      "outputs": [],
      "source": [
        "from langchain_groq import ChatGroq"
      ]
    },
    {
      "cell_type": "code",
      "execution_count": null,
      "metadata": {
        "colab": {
          "base_uri": "https://localhost:8080/",
          "height": 35
        },
        "id": "o6fhI4S88e7_",
        "outputId": "306a2beb-271b-49a9-fbd5-409761fb7abb"
      },
      "outputs": [
        {
          "data": {
            "application/vnd.google.colaboratory.intrinsic+json": {
              "type": "string"
            },
            "text/plain": [
              "'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'"
            ]
          },
          "execution_count": 7,
          "metadata": {},
          "output_type": "execute_result"
        }
      ],
      "source": [
        "from google.colab import userdata\n",
        "userdata.get('GROQ_API_KEY')"
      ]
    },
    {
      "cell_type": "code",
      "execution_count": null,
      "metadata": {
        "id": "BEVjiozn6FWU"
      },
      "outputs": [],
      "source": [
        "llm = ChatGroq(model=\"llama3-70b-8192\" , api_key=\"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\")"
      ]
    },
    {
      "cell_type": "code",
      "execution_count": null,
      "metadata": {
        "colab": {
          "base_uri": "https://localhost:8080/",
          "height": 87
        },
        "id": "W5O3FUID60En",
        "outputId": "77c17c90-b709-47c2-c56b-21bd6c48d78d"
      },
      "outputs": [
        {
          "data": {
            "application/vnd.google.colaboratory.intrinsic+json": {
              "type": "string"
            },
            "text/plain": [
              "\"Hi! I'm just a language model, I don't have feelings or emotions like humans do, so I don't have good or bad days. However, I'm always happy to chat with you and help with any questions or topics you'd like to discuss! How about you? How's your day going so far?\""
            ]
          },
          "execution_count": 9,
          "metadata": {},
          "output_type": "execute_result"
        }
      ],
      "source": [
        "llm.invoke(\"hi how are you?\").content"
      ]
    },
    {
      "cell_type": "code",
      "execution_count": null,
      "metadata": {
        "colab": {
          "base_uri": "https://localhost:8080/"
        },
        "id": "viHMpH857Djd",
        "outputId": "f5aa377e-24a2-485f-a930-d4ae0a43db13"
      },
      "outputs": [
        {
          "data": {
            "text/plain": [
              "AIMessage(content=\"Hi! I'm doing well, thanks for asking. I'm a large language model, so I don't have feelings or emotions like humans do, but I'm always happy to chat with you and help with any questions or topics you'd like to discuss. How about you? How's your day going?\", additional_kwargs={}, response_metadata={'token_usage': {'completion_tokens': 63, 'prompt_tokens': 15, 'total_tokens': 78, 'completion_time': 0.18, 'prompt_time': 0.000322416, 'queue_time': 0.24798465, 'total_time': 0.180322416}, 'model_name': 'llama3-70b-8192', 'system_fingerprint': 'fp_2e0feca3c9', 'finish_reason': 'stop', 'logprobs': None}, id='run-e0190ea1-b2d9-498b-b1ce-667746ff719e-0', usage_metadata={'input_tokens': 15, 'output_tokens': 63, 'total_tokens': 78})"
            ]
          },
          "execution_count": 10,
          "metadata": {},
          "output_type": "execute_result"
        }
      ],
      "source": [
        "llm.invoke(\"hi how are you?\")"
      ]
    },
    {
      "cell_type": "code",
      "execution_count": null,
      "metadata": {
        "id": "i7VCu06OIODg"
      },
      "outputs": [],
      "source": [
        "# Define a state object\n",
        "class State(TypedDict):\n",
        "    input: str  # Ensure this matches the expected key"
      ]
    },
    {
      "cell_type": "code",
      "execution_count": null,
      "metadata": {
        "id": "MOmGadKK8WUK"
      },
      "outputs": [],
      "source": [
        "def function1(state):\n",
        "  llm = ChatGroq(model=\"llama3-70b-8192\" , api_key=\"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\")\n",
        "  user_input = state[\"input\"]  # Extract the actual string input\n",
        "  response= llm.invoke(user_input).content\n",
        "  return {\"input\": response}"
      ]
    },
    {
      "cell_type": "code",
      "execution_count": null,
      "metadata": {
        "id": "ZGWsXovB86tG"
      },
      "outputs": [],
      "source": []
    },
    {
      "cell_type": "code",
      "execution_count": null,
      "metadata": {
        "id": "L9UTpO149ou2"
      },
      "outputs": [],
      "source": [
        "def function2(state):\n",
        "    upper_string = state[\"input\"].upper()\n",
        "    return {\"input\": upper_string}"
      ]
    },
    {
      "cell_type": "code",
      "execution_count": null,
      "metadata": {
        "id": "I2vU_Y8PEysG"
      },
      "outputs": [],
      "source": [
        "\n",
        "\n",
        "workflow = StateGraph(State)  # Make sure the graph knows about State\n"
      ]
    },
    {
      "cell_type": "code",
      "execution_count": null,
      "metadata": {
        "id": "N_Uj3n-C-Xjm"
      },
      "outputs": [],
      "source": [
        "# create object\n",
        "workflow = StateGraph(State)"
      ]
    },
    {
      "cell_type": "code",
      "execution_count": null,
      "metadata": {
        "colab": {
          "base_uri": "https://localhost:8080/"
        },
        "id": "3milXacm-mxu",
        "outputId": "fb33d8ca-ac6c-47ff-cddf-c3981c041a63"
      },
      "outputs": [
        {
          "data": {
            "text/plain": [
              "<langgraph.graph.state.StateGraph at 0x7f2a2a7f5c50>"
            ]
          },
          "execution_count": 16,
          "metadata": {},
          "output_type": "execute_result"
        }
      ],
      "source": [
        "workflow.add_node(\"function1\",function1)\n",
        "workflow.add_node(\"function2\",function2)\n"
      ]
    },
    {
      "cell_type": "code",
      "execution_count": null,
      "metadata": {
        "colab": {
          "base_uri": "https://localhost:8080/"
        },
        "id": "x5W58Zx2CwcA",
        "outputId": "26ccf1ee-ade0-4576-cf67-bd03bc77dbea"
      },
      "outputs": [
        {
          "data": {
            "text/plain": [
              "<langgraph.graph.state.StateGraph at 0x7f2a2a7f5c50>"
            ]
          },
          "execution_count": 17,
          "metadata": {},
          "output_type": "execute_result"
        }
      ],
      "source": [
        "workflow.add_edge(\"function1\", \"function2\")"
      ]
    },
    {
      "cell_type": "code",
      "execution_count": null,
      "metadata": {
        "colab": {
          "base_uri": "https://localhost:8080/"
        },
        "id": "bMXFGYMAC3_T",
        "outputId": "9cbb123d-42b3-4799-cc9d-3af4f2323348"
      },
      "outputs": [
        {
          "data": {
            "text/plain": [
              "<langgraph.graph.state.StateGraph at 0x7f2a2a7f5c50>"
            ]
          },
          "execution_count": 18,
          "metadata": {},
          "output_type": "execute_result"
        }
      ],
      "source": [
        "workflow.set_entry_point(\"function1\")\n",
        "workflow.set_finish_point(\"function2\")"
      ]
    },
    {
      "cell_type": "code",
      "execution_count": null,
      "metadata": {
        "id": "SXmk4sZa-yiF"
      },
      "outputs": [],
      "source": [
        "app= workflow.compile()"
      ]
    },
    {
      "cell_type": "code",
      "execution_count": null,
      "metadata": {
        "colab": {
          "base_uri": "https://localhost:8080/"
        },
        "id": "uzG9Ezhl-33n",
        "outputId": "50e23365-c9cc-4d15-8b7f-21c406e122b7"
      },
      "outputs": [
        {
          "name": "stdout",
          "output_type": "stream",
          "text": [
            "NEW YORK! THE EMPIRE STATE, THE CITY THAT NEVER SLEEPS, THE BIG APPLE... THERE'S SO MUCH TO SAY ABOUT THIS ICONIC CITY. HERE'S A BRIEF OVERVIEW:\n",
            "\n",
            "** GEOGRAPHY AND CLIMATE **\n",
            "\n",
            "NEW YORK IS LOCATED IN THE NORTHEASTERN UNITED STATES, IN THE STATE OF NEW YORK. IT'S SITUATED ON THE ATLANTIC COAST, WHERE THE HUDSON RIVER MEETS THE ATLANTIC OCEAN. THE CITY HAS A HUMID CONTINENTAL CLIMATE, WITH COLD WINTERS AND HOT, HUMID SUMMERS.\n",
            "\n",
            "** NEIGHBORHOODS AND BOROUGHS **\n",
            "\n",
            "NEW YORK CITY IS COMPOSED OF FIVE BOROUGHS:\n",
            "\n",
            "1. **MANHATTAN**: THE FINANCIAL HUB, HOME TO ICONIC LANDMARKS LIKE TIMES SQUARE, CENTRAL PARK, AND THE EMPIRE STATE BUILDING.\n",
            "2. **BROOKLYN**: A TRENDY, ARTSY BOROUGH WITH A THRIVING MUSIC AND FOOD SCENE.\n",
            "3. **QUEENS**: THE MOST ETHNICALLY DIVERSE COUNTY IN THE US, WITH A VIBRANT ARTS AND CULTURAL SCENE.\n",
            "4. **THE BRONX**: KNOWN FOR ITS BASEBALL TEAM, THE YANKEES, AND THE BRONX ZOO.\n",
            "5. **STATEN ISLAND**: A RESIDENTIAL BOROUGH WITH A MORE SUBURBAN FEEL.\n",
            "\n",
            "** ATTRACTIONS AND LANDMARKS **\n",
            "\n",
            "NEW YORK CITY IS FAMOUS FOR ITS ICONIC LANDMARKS, MUSEUMS, AND ENTERTAINMENT OPTIONS. SOME MUST-VISIT ATTRACTIONS INCLUDE:\n",
            "\n",
            "* **STATUE OF LIBERTY**: A SYMBOL OF FREEDOM AND DEMOCRACY, ACCESSIBLE BY FERRY FROM LIBERTY STATE PARK.\n",
            "* **CENTRAL PARK**: AN 843-ACRE GREEN OASIS IN THE HEART OF MANHATTAN.\n",
            "* **THE METROPOLITAN MUSEUM OF ART**: ONE OF THE WORLD'S LARGEST AND MOST RENOWNED ART MUSEUMS.\n",
            "* **BROADWAY**: THE HEART OF AMERICAN THEATER, WITH DOZENS OF ICONIC SHOWS AND MUSICALS.\n",
            "* **9/11 MEMORIAL & MUSEUM**: A POIGNANT TRIBUTE TO THE VICTIMS OF THE 2001 ATTACKS.\n",
            "* **THE HIGH LINE**: AN ELEVATED PARK BUILT ON AN OLD RAIL LINE, OFFERING STUNNING CITY VIEWS.\n",
            "\n",
            "** FOOD AND NIGHTLIFE **\n",
            "\n",
            "NEW YORK CITY IS A FOOD LOVER'S PARADISE, WITH A DIVERSE RANGE OF CUISINES AND DINING OPTIONS. SOME POPULAR DISHES AND RESTAURANTS INCLUDE:\n",
            "\n",
            "* **NEW YORK-STYLE PIZZA**: THIN CRUST, FOLDABLE, AND UTTERLY DELICIOUS.\n",
            "* **BAGELS**: A CLASSIC NYC BREAKFAST STAPLE.\n",
            "* **CARBONE**: AN OVER-THE-TOP, RETRO ITALIAN-AMERICAN RESTAURANT.\n",
            "* **KATZ'S DELICATESSEN**: A LEGENDARY JEWISH DELI ON THE LOWER EAST SIDE.\n",
            "* **THE DEAD RABBIT**: A WORLD-RENOWNED COCKTAIL BAR IN LOWER MANHATTAN.\n",
            "\n",
            "** ECONOMY AND INDUSTRY **\n",
            "\n",
            "NEW YORK CITY IS A GLOBAL HUB FOR FINANCE, MEDIA, ART, FASHION, AND ENTERTAINMENT. THE CITY IS HOME TO:\n",
            "\n",
            "* **WALL STREET**: THE HEART OF THE US FINANCIAL INDUSTRY.\n",
            "* **SILICON ALLEY**: A GROWING TECH INDUSTRY, WITH STARTUPS AND GIANTS LIKE GOOGLE AND FACEBOOK.\n",
            "* **FASHION WEEK**: ONE OF THE WORLD'S PREMIER FASHION EVENTS.\n",
            "* **THE UNITED NATIONS**: THE HEADQUARTERS OF THE INTERNATIONAL ORGANIZATION.\n",
            "\n",
            "** EDUCATION AND CULTURE **\n",
            "\n",
            "NEW YORK CITY IS HOME TO MANY WORLD-CLASS UNIVERSITIES AND CULTURAL INSTITUTIONS, INCLUDING:\n",
            "\n",
            "* **COLUMBIA UNIVERSITY**: AN IVY LEAGUE UNIVERSITY AND ONE OF THE OLDEST IN THE US.\n",
            "* **NEW YORK UNIVERSITY**: A PRIVATE RESEARCH UNIVERSITY WITH A STRONG REPUTATION.\n",
            "* **THE MUSEUM OF MODERN ART (MOMA)**: ONE OF THE WORLD'S PREMIER MODERN ART MUSEUMS.\n",
            "* **THE NEW YORK PUBLIC LIBRARY**: A STUNNING BEAUX-ARTS BUILDING WITH A VAST COLLECTION.\n",
            "\n",
            "THIS IS JUST A TASTE OF WHAT NEW YORK CITY HAS TO OFFER. WITH ITS ENDLESS ENERGY, DIVERSITY, AND OPPORTUNITIES, IT'S NO WONDER THAT NYC IS ONE OF THE MOST POPULAR TOURIST DESTINATIONS IN THE WORLD.\n"
          ]
        }
      ],
      "source": [
        "result = app.invoke({\"input\": \"tell me about New York\"})\n",
        "print(result[\"input\"].replace(\"\\\\n\", \"\\n\"))  # Ensure proper new lines\n"
      ]
    },
    {
      "cell_type": "code",
      "execution_count": null,
      "metadata": {
        "colab": {
          "base_uri": "https://localhost:8080/"
        },
        "id": "YYZZ0yNdQN6z",
        "outputId": "d01dd3e4-3eb0-419c-b48e-4f24ec51f833"
      },
      "outputs": [
        {
          "name": "stdout",
          "output_type": "stream",
          "text": [
            "A CLASSIC! HERE ARE THE SIMPLE STEPS TO MAKE A DELICIOUS MAGGI NOODLES:\n",
            "\n",
            "**INGREDIENTS:**\n",
            "\n",
            "* 1 PACKET OF MAGGI NOODLES\n",
            "* 2 CUPS OF WATER\n",
            "* 1 TABLESPOON OF VEGETABLE OIL (OPTIONAL)\n",
            "* SALT TO TASTE\n",
            "* OPTIONAL: VEGETABLES (E.G., PEAS, CARROTS, ONIONS), SPICES (E.G., CHILI FLAKES, CURRY POWDER), OR PROTEIN (E.G., EGGS, CHICKEN) TO ADD FLAVOR AND NUTRITION\n",
            "\n",
            "**INSTRUCTIONS:**\n",
            "\n",
            "1. **BOIL WATER**: BRING 2 CUPS OF WATER TO A BOIL IN A LARGE POT OR KETTLE.\n",
            "2. **ADD MAGGI NOODLES**: OPEN THE PACKET OF MAGGI NOODLES AND ADD THE CONTENTS TO THE BOILING WATER.\n",
            "3. **ADD OIL (OPTIONAL)**: IF YOU WANT TO ADD SOME EXTRA FLAVOR, ADD 1 TABLESPOON OF VEGETABLE OIL TO THE POT.\n",
            "4. **WAIT FOR 2-3 MINUTES**: LET THE NOODLES COOK FOR 2-3 MINUTES OR UNTIL THEY ARE SLIGHTLY TENDER.\n",
            "5. **ADD FLAVOR MAKER**: OPEN THE FLAVOR MAKER PACKET THAT COMES WITH THE MAGGI NOODLES AND ADD THE CONTENTS TO THE POT.\n",
            "6. **STIR WELL**: STIR THE NOODLES AND FLAVOR MAKER MIXTURE WELL TO ENSURE THE FLAVORS ARE EVENLY DISTRIBUTED.\n",
            "7. **COOK FOR ANOTHER MINUTE**: CONTINUE COOKING FOR ANOTHER MINUTE OR UNTIL THE NOODLES ARE FULLY COOKED AND THE WATER HAS BEEN ABSORBED.\n",
            "8. **SEASON WITH SALT**: ADD SALT TO TASTE, IF NEEDED.\n",
            "9. **ADD OPTIONAL INGREDIENTS (IF USING)**: IF YOU'RE ADDING VEGETABLES, SPICES, OR PROTEIN, NOW IS THE TIME TO ADD THEM TO THE NOODLES.\n",
            "10. **SERVE HOT**: SERVE THE MAGGI NOODLES HOT, GARNISHED WITH CHOPPED ONIONS OR SCALLIONS, IF DESIRED.\n",
            "\n",
            "**TIPS:**\n",
            "\n",
            "* USE A LARGE POT TO PREVENT THE NOODLES FROM BECOMING MUSHY.\n",
            "* IF YOU'RE ADDING VEGETABLES, ADD THEM TO THE POT ALONG WITH THE NOODLES TO ENSURE THEY COOK EVENLY.\n",
            "* ADJUST THE AMOUNT OF WATER ACCORDING TO YOUR PREFERENCE FOR NOODLE TEXTURE.\n",
            "* EXPERIMENT WITH DIFFERENT SPICES AND INGREDIENTS TO GIVE YOUR MAGGI NOODLES A PERSONALIZED TWIST.\n",
            "\n",
            "ENJOY YOUR DELICIOUS AND QUICK MAGGI NOODLES!\n"
          ]
        }
      ],
      "source": [
        "result = app.invoke({\"input\": \"steps to make maggi\"})\n",
        "print(result[\"input\"].replace(\"\\\\n\", \"\\n\"))  # Ensure proper new lines\n"
      ]
    },
    {
      "cell_type": "code",
      "execution_count": null,
      "metadata": {
        "colab": {
          "base_uri": "https://localhost:8080/",
          "height": 613
        },
        "id": "8blckRhLOTXa",
        "outputId": "5f4defb7-d67a-43e5-b25d-16613423cbb3"
      },
      "outputs": [
        {
          "name": "stdout",
          "output_type": "stream",
          "text": [
            "Requirement already satisfied: IPython in /usr/local/lib/python3.11/dist-packages (7.34.0)\n",
            "Requirement already satisfied: setuptools>=18.5 in /usr/local/lib/python3.11/dist-packages (from IPython) (75.1.0)\n",
            "Requirement already satisfied: jedi>=0.16 in /usr/local/lib/python3.11/dist-packages (from IPython) (0.19.2)\n",
            "Requirement already satisfied: decorator in /usr/local/lib/python3.11/dist-packages (from IPython) (4.4.2)\n",
            "Requirement already satisfied: pickleshare in /usr/local/lib/python3.11/dist-packages (from IPython) (0.7.5)\n",
            "Requirement already satisfied: traitlets>=4.2 in /usr/local/lib/python3.11/dist-packages (from IPython) (5.7.1)\n",
            "Requirement already satisfied: prompt-toolkit!=3.0.0,!=3.0.1,<3.1.0,>=2.0.0 in /usr/local/lib/python3.11/dist-packages (from IPython) (3.0.50)\n",
            "Requirement already satisfied: pygments in /usr/local/lib/python3.11/dist-packages (from IPython) (2.18.0)\n",
            "Requirement already satisfied: backcall in /usr/local/lib/python3.11/dist-packages (from IPython) (0.2.0)\n",
            "Requirement already satisfied: matplotlib-inline in /usr/local/lib/python3.11/dist-packages (from IPython) (0.1.7)\n",
            "Requirement already satisfied: pexpect>4.3 in /usr/local/lib/python3.11/dist-packages (from IPython) (4.9.0)\n",
            "Requirement already satisfied: parso<0.9.0,>=0.8.4 in /usr/local/lib/python3.11/dist-packages (from jedi>=0.16->IPython) (0.8.4)\n",
            "Requirement already satisfied: ptyprocess>=0.5 in /usr/local/lib/python3.11/dist-packages (from pexpect>4.3->IPython) (0.7.0)\n",
            "Requirement already satisfied: wcwidth in /usr/local/lib/python3.11/dist-packages (from prompt-toolkit!=3.0.0,!=3.0.1,<3.1.0,>=2.0.0->IPython) (0.2.13)\n"
          ]
        },
        {
          "data": {
            "image/png": "[encoded data removed]",
            "text/plain": [
              "<IPython.core.display.Image object>"
            ]
          },
          "metadata": {},
          "output_type": "display_data"
        }
      ],
      "source": [
        "\n",
        "from IPython.display import Image, display\n",
        "\n",
        "try:\n",
        "    display(Image(app.get_graph().draw_mermaid_png()))\n",
        "except Exception as e:\n",
        "    print(e)\n"
      ]
    }
  ],
  "metadata": {
    "accelerator": "GPU",
    "colab": {
      "gpuType": "T4",
      "provenance": []
    },
    "kernelspec": {
      "display_name": "Python 3",
      "name": "python3"
    },
    "language_info": {
      "name": "python",
      "version": "3.9.13"
    }
  },
  "nbformat": 4,
  "nbformat_minor": 0
}
